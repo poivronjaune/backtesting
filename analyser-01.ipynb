{
 "cells": [
  {
   "cell_type": "code",
   "execution_count": null,
   "metadata": {},
   "outputs": [],
   "source": [
    "import pandas as pd"
   ]
  },
  {
   "cell_type": "code",
   "execution_count": null,
   "metadata": {},
   "outputs": [],
   "source": [
    "log_file = \"log_01-2022-04-17-21-43-20.csv\"\n",
    "log_df = pd.read_csv(f\"LOG_CSV\\{log_file}\", sep=\";\", index_col=False)\n",
    "log_df.reset_index()\n",
    "log_df.set_index('date', inplace=True)\n",
    "log_df.index = pd.to_datetime(log_df.index)\n",
    "log_df.columns"
   ]
  },
  {
   "cell_type": "code",
   "execution_count": null,
   "metadata": {},
   "outputs": [],
   "source": [
    "filter_symbol    = log_df[\"symbol\"] == \"ORCL\"\n",
    "filter_buy       = log_df[\"order_type\"] == \"Buy\"\n",
    "filter_completed = log_df[\"order_status\"] == \"Completed\"\n",
    "filter_accepted  = log_df[\"order_status\"] == \"Accepted\"\n",
    "filter_canceled  = log_df[\"order_status\"] == \"Canceled\"\n",
    "market_order = log_df[\"order_name\"] == \"Market\"\n",
    "\n",
    "#log_df.loc[filter_symbol & (filter_completed | filter_canceled)].head(50)\n",
    "log_df.loc[filter_symbol & (filter_accepted | filter_completed ) ].head(10)"
   ]
  },
  {
   "cell_type": "code",
   "execution_count": null,
   "metadata": {},
   "outputs": [],
   "source": [
    "def trades_statistics(trades):\n",
    "    stats = dict()\n",
    "    stats['symbol'] = trades.iloc[0]['symbol']\n",
    "    stats['number_of_trades'] = len(trades)\n",
    "    stats['gain'] = trades['net'].sum()\n",
    "    \n",
    "    return stats"
   ]
  },
  {
   "cell_type": "code",
   "execution_count": null,
   "metadata": {},
   "outputs": [],
   "source": [
    "def analyse_trades(symbol, log_df):\n",
    "    filter_symbol = log_df[\"symbol\"] == symbol\n",
    "    filter_completed = log_df[\"order_status\"] == \"Completed\"\n",
    "    transactions = log_df.loc[filter_symbol & filter_completed]\n",
    "\n",
    "    t_id = 0\n",
    "    trades = []\n",
    "    for i in range(0, len(transactions) - (len(transactions) % 2), 2):\n",
    "        t_buy  = transactions.iloc[i].copy()\n",
    "        t_sell = transactions.iloc[i+1].copy()\n",
    "        days_held = (transactions.index[i+1] - transactions.index[i]).days\n",
    "\n",
    "        trade = dict()\n",
    "        trade['trade_id'] = t_id\n",
    "        trade['symbol'] = t_buy['symbol']\n",
    "        trade['days_held'] = days_held\n",
    "        trade['shares'] = t_buy['order_size']\n",
    "        \n",
    "        trade['buy_date']   = transactions.index[i]\n",
    "        trade['buy_order_ref'] = t_buy['order_ref']\n",
    "        trade['buy_name'] = t_buy['order_name']\n",
    "        trade['buy_price'] = t_buy['order_price']\n",
    "        trade['buy_shares'] = t_buy['order_size']\n",
    "        trade['buy_order_value'] = t_buy['order_value']\n",
    "        trade['buy_tx_value'] = t_buy['order_size'] * t_buy['order_price'] - t_buy['order_commission']\n",
    "        \n",
    "        trade['sell_date'] = transactions.index[i+1]\n",
    "        trade['sell_order_ref'] = t_sell['order_ref']\n",
    "        trade['sell_name'] = t_sell['order_name']\n",
    "        trade['sell_price'] = t_sell['order_price']\n",
    "        trade['sell_shares'] = t_sell['order_size']\n",
    "        trade['sell_order_value'] = t_sell['order_value']\n",
    "        trade['sell_tx_value'] = (t_sell['order_size'] * t_sell['order_price'] * -1) - t_sell['order_commission']\n",
    "\n",
    "        trade['net'] = trade['sell_tx_value'] - trade['buy_tx_value']\n",
    "\n",
    "        t_id += 1\n",
    "        trades.append(trade)\n",
    "        #buy = dict()\n",
    "        #buy['date'] = \n",
    "        #print(f\"[{transactions.index[i]}] {t_buy['symbol']} -> BUY: {t_buy['order_name']} {t_buy['order_type']} | [{transactions.index[i+1]}] {t_sell['symbol']} -> SELL: {t_sell['order_name']} {t_sell['order_type']}\")\n",
    "\n",
    "    trades_df = pd.DataFrame(trades)\n",
    "\n",
    "    analysis = dict()\n",
    "    analysis['trades'] = trades_df\n",
    "    analysis['stats'] = trades_statistics(trades_df)\n",
    "\n",
    "    return analysis"
   ]
  },
  {
   "cell_type": "code",
   "execution_count": null,
   "metadata": {},
   "outputs": [],
   "source": [
    "all_symbols = list(set(log_df['symbol'].to_list()))\n",
    "results = []\n",
    "for symbol in all_symbols:\n",
    "    result = analyse_trades(symbol, log_df)\n",
    "    results.append(result)\n",
    "\n",
    "[stats['stats'] for stats in results]\n"
   ]
  },
  {
   "cell_type": "code",
   "execution_count": null,
   "metadata": {},
   "outputs": [],
   "source": [
    "results[0]['trades']"
   ]
  },
  {
   "cell_type": "code",
   "execution_count": null,
   "metadata": {},
   "outputs": [],
   "source": [
    "df1 = results[0]['trades']\n",
    "net_col = df1['net']\n",
    "net_col.sum()\n"
   ]
  }
 ],
 "metadata": {
  "interpreter": {
   "hash": "b3360de73ed6468fef8fd5874a07a3a92c2943cd0018dbb4b18481ae31e8605f"
  },
  "kernelspec": {
   "display_name": "Python 3.10.0 ('env': venv)",
   "language": "python",
   "name": "python3"
  },
  "language_info": {
   "codemirror_mode": {
    "name": "ipython",
    "version": 3
   },
   "file_extension": ".py",
   "mimetype": "text/x-python",
   "name": "python",
   "nbconvert_exporter": "python",
   "pygments_lexer": "ipython3",
   "version": "3.10.0"
  },
  "orig_nbformat": 4
 },
 "nbformat": 4,
 "nbformat_minor": 2
}
